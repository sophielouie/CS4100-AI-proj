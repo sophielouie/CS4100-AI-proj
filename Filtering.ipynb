{
 "cells": [
  {
   "cell_type": "code",
   "execution_count": 1,
   "metadata": {},
   "outputs": [],
   "source": [
    "from HMM_Functions import *\n",
    "from matplotlib import cm, pyplot as plt\n",
    "import seaborn\n",
    "from matplotlib.dates import YearLocator, MonthLocator, DayLocator\n",
    "import pandas as pd\n",
    "import numpy as np\n",
    "from datetime import datetime"
   ]
  },
  {
   "cell_type": "code",
   "execution_count": 3,
   "metadata": {},
   "outputs": [
    {
     "ename": "SyntaxError",
     "evalue": "invalid syntax (<ipython-input-3-15a688e2bd0d>, line 11)",
     "output_type": "error",
     "traceback": [
      "\u001b[0;36m  File \u001b[0;32m\"<ipython-input-3-15a688e2bd0d>\"\u001b[0;36m, line \u001b[0;32m11\u001b[0m\n\u001b[0;31m    normalization_const = #something\u001b[0m\n\u001b[0m                          ^\u001b[0m\n\u001b[0;31mSyntaxError\u001b[0m\u001b[0;31m:\u001b[0m invalid syntax\n"
     ]
    }
   ],
   "source": [
    "def filtering(tpm, epm, pi, emissions):\n",
    "    predict = []\n",
    "    \n",
    "    T = len(emissions)\n",
    "    NUM_STATES = len(tpm)\n",
    "    \n",
    "    forwrd = forward(tpm, epm, pi, emissions[:-1])\n",
    "    bkwrd = backward(tpm, epm, pi, emissions)\n",
    "    \n",
    "    \n",
    "    normalization_const = #something\n",
    "    \n",
    "    for state_i in range(NUM_STATES):\n",
    "        a = bkwrd[T][state_i]\n",
    "\n",
    "        b = 0\n",
    "        for state_j in range(NUM_STATES):\n",
    "            b += tpm[state_j][state_j+1] * forwrd[T-1][state_j]\n",
    "        \n",
    "        predict.append(normalization_const * a * b)\n",
    "    \n",
    "    return predict"
   ]
  }
 ],
 "metadata": {
  "kernelspec": {
   "display_name": "Python 3",
   "language": "python",
   "name": "python3"
  },
  "language_info": {
   "codemirror_mode": {
    "name": "ipython",
    "version": 3
   },
   "file_extension": ".py",
   "mimetype": "text/x-python",
   "name": "python",
   "nbconvert_exporter": "python",
   "pygments_lexer": "ipython3",
   "version": "3.8.5"
  }
 },
 "nbformat": 4,
 "nbformat_minor": 4
}
