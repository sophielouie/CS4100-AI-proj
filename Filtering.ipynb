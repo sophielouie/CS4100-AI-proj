{
 "cells": [
  {
   "cell_type": "code",
   "execution_count": 25,
   "metadata": {},
   "outputs": [],
   "source": [
    "from HMM_Functions import *\n",
    "from matplotlib import cm, pyplot as plt\n",
    "import seaborn\n",
    "from matplotlib.dates import YearLocator, MonthLocator, DayLocator\n",
    "import pandas as pd\n",
    "import numpy as np\n",
    "from datetime import datetime"
   ]
  },
  {
   "cell_type": "code",
   "execution_count": 26,
   "metadata": {},
   "outputs": [],
   "source": [
    "tpm = [[0.3, 0.3, 0.2, 0.1, 0.05, 0.05],\n",
    "       [0.25, 0.3, 0.25, 0.1, 0.05, 0.05],\n",
    "       [0.1, 0.1, 0.3, 0.2, 0.2, 0.1],\n",
    "       [0.1, 0.1, 0.2, 0.3, 0.2, 0.1],\n",
    "       [0.05, 0.05, 0.1, 0.25, 0.3, 0.25],\n",
    "       [0.05, 0.05, 0.1, 0.2, 0.3, 0.3]]\n",
    "\n",
    "#tpm = create_TPM(6)\n",
    "\n",
    "pi = [.2, .1, .1, .2, .1, .1]\n",
    "\n",
    "epm = create_EPM(6, 2)\n",
    "emissions = ['Decreasing', 'Decreasing','Increasing','Decreasing',\n",
    " 'Decreasing','Decreasing','Decreasing', 'Decreasing', 'Increasing','Decreasing','Decreasing',\n",
    " 'Decreasing','Increasing','Increasing','Decreasing','Decreasing']"
   ]
  },
  {
   "cell_type": "code",
   "execution_count": 42,
   "metadata": {},
   "outputs": [],
   "source": [
    "'''\n",
    "                            TPM          FWD PROB\n",
    "P(Xt+k+1 | e1:t) = ∑t+k P(Xt+k+1|xt+k) P(xt+k|e1:t)\n",
    "\n",
    "\n",
    "∑t+k P(Xt+k+1|xt+k) * P(xt+k|e1:t): Iterate through ALL the states and add up the TPM * most recent fwd probability\n",
    "\n",
    "Outcome: matrix with probabilities for each of hte next states, prediction is the highest one:\n",
    "          I    D\n",
    "state 0: .05  .05  = .1  -> .5 .5 = 1\n",
    "state 1: .05  .05  = .1  -> .5 .5 = 1\n",
    "state 2: .1   .1  = .2   \n",
    "state 3: .05  .25 = .3   -> .05 .95 = 1\n",
    "state 4: .1.  .1  = .2\n",
    "state 5: .05  .05 =.01\n",
    "\n",
    "'''\n",
    "\n",
    "def filtering_K(tpm, epm, emissions, pi):\n",
    "\n",
    "    t = len(emissions)\n",
    "    NUM_STATES = len(tpm)\n",
    "    prediction = []\n",
    "    fwrd = forward(tpm, epm, pi, emissions)\n",
    "    pred_list = []\n",
    "    \n",
    "    #starting_fwd = fwd[T][state_i]\n",
    "    #starting_fwd\n",
    "    \n",
    "    #∑t+k P(Xt+k+1|xt+k) * P(xt+k|e1:t): Iterate through ALL the states and add up the TPM * most recent fwd probability\n",
    "    \n",
    "    '''\n",
    "    \n",
    "   do we need to do this part?  \n",
    "   EPM of I at state 0  * probability state 0| KNOW that we were just in 0 *  fwd of being in state 0 at previous time step\n",
    "   EPM of D at state 0  * probability state 0| KNOW that we were just in 0 *  fwd of being in state 0 at previous time step\n",
    "   \n",
    "          probability state 0| KNOW that we were just in 1 *  fwd of state 1\n",
    "          probability state 0| KNOW that we were just in 2 *  fwd of state 2\n",
    "          probability state 0| KNOW that we were just in 3 *  fwd of state 3\n",
    "          probability state 0| KNOW that we were just in 4 *  fwd of state 4\n",
    "          probability state 0| KNOW that we were just in 5 *  fwd of state 5\n",
    "            add all this up to get the probabiltiy of next state being state 0\n",
    "            \n",
    "          probability state 1| KNOW that we were just in 0 *  fwd of state 0\n",
    "          probability state 1| KNOW that we were just in 1 *  fwd of state 1\n",
    "          probability state 1| KNOW that we were just in 2 *  fwd of state 2\n",
    "          probability state 1| KNOW that we were just in 3 *  fwd of state 3\n",
    "          probability state 1| KNOW that we were just in 4 *  fwd of state 4\n",
    "          probability state 1| KNOW that we were just in 5 *  fwd of state 5\n",
    "            add all this up to get the probabiltiy of next state being state 1\n",
    "            \n",
    "          probability state 2| KNOW that we were just in 0 *  fwd of state 0\n",
    "          probability state 2| KNOW that we were just in 1 *  fwd of state 1\n",
    "          probability state 2| KNOW that we were just in 2 *  fwd of state 2\n",
    "          probability state 2| KNOW that we were just in 3 *  fwd of state 3\n",
    "          probability state 2| KNOW that we were just in 4 *  fwd of state 4\n",
    "          probability state 2| KNOW that we were just in 5 *  fwd of state 5\n",
    "            add all this up to get the probabiltiy of next state being state 2\n",
    "        '''\n",
    "        \n",
    "    for state_i in range(NUM_STATES):\n",
    "        pred_state_dist = tpm[state_i]\n",
    "        total = 0\n",
    "\n",
    "        for state_j in range(NUM_STATES):\n",
    "            transition_prob = pred_state_dist[state_j]\n",
    "            fwd_prob =  fwrd[t-1][state_j]\n",
    "            \n",
    "            total = total + (transition_prob * fwd_prob)\n",
    "                \n",
    "        pred_list.append(total)\n",
    "        \n",
    "    denominator = 0\n",
    "    normalized_list = []\n",
    "    for i in range(len(pred_list)):\n",
    "        denominator += pred_list[i]\n",
    "        \n",
    "    print('denom is...', denominator)\n",
    "    \n",
    "    for i in range(len(pred_list)):\n",
    "        value = pred_list[i]/denominator\n",
    "        normalized_list.append(value)\n",
    "        \n",
    "    \n",
    "    print('normalized_list is..', normalized_list)\n",
    "    \n",
    "    checksum = sum(normalized_list)\n",
    "    \n",
    "    print('equals 1?',checksum)\n",
    "    \n",
    "    maxstate = max(normalized_list)\n",
    "    print(maxstate)\n",
    "    \n",
    "    return(pred_list)\n",
    "            \n",
    "    "
   ]
  },
  {
   "cell_type": "code",
   "execution_count": 43,
   "metadata": {},
   "outputs": [
    {
     "name": "stdout",
     "output_type": "stream",
     "text": [
      "denom is... 1.2500170657035237e-05\n",
      "normalized_list is.. [0.15173029775290853, 0.15479591185558508, 0.17400477849233528, 0.17511455356913824, 0.1736105761273977, 0.17074388220263512]\n",
      "equals 1? 1.0\n",
      "0.17511455356913824\n"
     ]
    },
    {
     "data": {
      "text/plain": [
       "[1.8966546157541268e-06,\n",
       " 1.9349753152061975e-06,\n",
       " 2.1750894262938054e-06,\n",
       " 2.188961804144767e-06,\n",
       " 2.170161829458679e-06,\n",
       " 2.1343276661776603e-06]"
      ]
     },
     "execution_count": 43,
     "metadata": {},
     "output_type": "execute_result"
    }
   ],
   "source": [
    "pred = filtering_K(tpm, epm, emissions, pi)\n",
    "pred"
   ]
  },
  {
   "cell_type": "code",
   "execution_count": null,
   "metadata": {},
   "outputs": [],
   "source": []
  },
  {
   "cell_type": "code",
   "execution_count": 3,
   "metadata": {},
   "outputs": [
    {
     "ename": "SyntaxError",
     "evalue": "invalid syntax (<ipython-input-3-15a688e2bd0d>, line 11)",
     "output_type": "error",
     "traceback": [
      "\u001b[0;36m  File \u001b[0;32m\"<ipython-input-3-15a688e2bd0d>\"\u001b[0;36m, line \u001b[0;32m11\u001b[0m\n\u001b[0;31m    normalization_const = #something\u001b[0m\n\u001b[0m                          ^\u001b[0m\n\u001b[0;31mSyntaxError\u001b[0m\u001b[0;31m:\u001b[0m invalid syntax\n"
     ]
    }
   ],
   "source": [
    "\n",
    "def filtering(tpm, epm, pi, emissions):\n",
    "    predict = []\n",
    "    \n",
    "    T = len(emissions)\n",
    "    NUM_STATES = len(tpm)\n",
    "    \n",
    "    forwrd = forward(tpm, epm, pi, emissions[:-1])\n",
    "    bkwrd = backward(tpm, epm, pi, emissions)\n",
    "    \n",
    "    \n",
    "    normalization_const = #something\n",
    "    \n",
    "    for state_i in range(NUM_STATES):\n",
    "        a = bkwrd[T][state_i]\n",
    "\n",
    "        b = 0\n",
    "        for state_j in range(NUM_STATES):\n",
    "            b += tpm[state_j][state_j+1] * forwrd[T-1][state_j]\n",
    "        \n",
    "        predict.append(normalization_const * a * b)\n",
    "    \n",
    "    return predict"
   ]
  }
 ],
 "metadata": {
  "kernelspec": {
   "display_name": "Python 3",
   "language": "python",
   "name": "python3"
  },
  "language_info": {
   "codemirror_mode": {
    "name": "ipython",
    "version": 3
   },
   "file_extension": ".py",
   "mimetype": "text/x-python",
   "name": "python",
   "nbconvert_exporter": "python",
   "pygments_lexer": "ipython3",
   "version": "3.8.5"
  }
 },
 "nbformat": 4,
 "nbformat_minor": 4
}
