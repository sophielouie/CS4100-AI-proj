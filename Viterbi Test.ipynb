{
 "cells": [
  {
   "cell_type": "code",
   "execution_count": 1,
   "metadata": {},
   "outputs": [],
   "source": [
    "'''\n",
    "Citation: https://github.com/hamzarawal/HMM-Viterbi/blob/master/viterbi.py\n",
    "'''\n",
    "import numpy as np\n",
    "\n",
    "#generating initial probabilities\n",
    "\n",
    "#transition probabilities\n",
    "transition = np.array([[0.8,0.1],\n",
    "                       [0.1,0.8]])\n",
    "#Emission probabilities\n",
    "emission = np.array([[0.1,0.2,0.7],\n",
    "                     [0.7,0.2,0.1]])\n",
    "\n",
    "#defining states and sequence symbols\n",
    "states = ['H','C']\n",
    "states_dic = {'H':0, 'C':1}\n",
    "sequence_syms = {'1':0,'2':1,'3':2}\n",
    "\n",
    "#test sequence\n",
    "test_sequence = '111133333'\n",
    "test_sequence = [x for x in test_sequence]\n",
    "\n",
    "\n",
    "#node values stored during viterbi forward algorithm\n",
    "node_values = np.zeros((len(states),len(test_sequence)))\n",
    "\n",
    "#probabilities of going to end state\n",
    "end_probs = [0.1, 0.1]\n",
    "\n",
    "#probabilities of going from start state\n",
    "start_probs = [0.5, 0.5]\n",
    "\n",
    "#storing max symbol for each stage\n",
    "max_syms = np.chararray((len(states),len(test_sequence)))\n"
   ]
  },
  {
   "cell_type": "code",
   "execution_count": 4,
   "metadata": {},
   "outputs": [
    {
     "name": "stdout",
     "output_type": "stream",
     "text": [
      "test_sequence is... ['1', '1', '1', '1', '3', '3', '3', '3', '3']\n",
      "i,sequence_value is: 0 1\n",
      "node_values[j,i] is 0.05\n",
      "node_values[j,i] is 0.35\n",
      "i,sequence_value is: 1 1\n",
      "values is [0.004000000000000001, 0.0034999999999999996]\n",
      "values is [0.0034999999999999996, 0.19599999999999998]\n",
      "i,sequence_value is: 2 1\n",
      "values is [0.00032000000000000013, 0.00196]\n",
      "values is [0.00028000000000000003, 0.10976]\n",
      "i,sequence_value is: 3 1\n",
      "values is [0.00015680000000000002, 0.0010976]\n",
      "values is [0.0001372, 0.0614656]\n",
      "i,sequence_value is: 4 3\n",
      "values is [0.000614656, 0.004302592]\n",
      "values is [1.0976000000000001e-05, 0.004917248000000001]\n",
      "i,sequence_value is: 5 3\n",
      "values is [0.00240945152, 0.00034420736000000005]\n",
      "values is [4.3025920000000006e-05, 0.0003933798400000001]\n",
      "i,sequence_value is: 6 3\n",
      "values is [0.0013492928512, 2.7536588800000007e-05]\n",
      "values is [2.4094515200000002e-05, 3.147038720000001e-05]\n",
      "i,sequence_value is: 7 3\n",
      "values is [0.000755603996672, 2.2029271040000006e-06]\n",
      "values is [1.3492928512000001e-05, 2.5176309760000012e-06]\n",
      "i,sequence_value is: 8 3\n",
      "values is [0.00042313823813631995, 9.445049958400001e-07]\n",
      "values is [7.556039966720001e-06, 1.07943428096e-06]\n"
     ]
    }
   ],
   "source": [
    "\n",
    "print('test_sequence is...', test_sequence)\n",
    "\n",
    "for i, sequence_val in enumerate(test_sequence):\n",
    "    print('i,sequence_value is:', i,sequence_val)\n",
    "    \n",
    "    for j in range(len(states)):\n",
    "        #if first sequence value then do this\n",
    "        \n",
    "        if(i == 0):\n",
    "            node_values[j,i] = start_probs[j]*emission[j,sequence_syms[sequence_val]]\n",
    "            print('node_values[j,i] is',node_values[j,i])\n",
    "            \n",
    "        #else perform this\n",
    "        else:\n",
    "            values = [node_values[k, i - 1] * emission[j, sequence_syms[sequence_val]] * transition[k, j] for k in\n",
    "                      range(len(states))]\n",
    "            print('values is',values)\n",
    "            \n",
    "            max_idx = np.argmax(values)\n",
    "            max_val = max(values)\n",
    "            max_syms[j,i] = states[max_idx]\n",
    "            node_values[j,i] = max_val\n",
    "\n",
    "#end state value\n",
    "end_state = np.multiply(node_values[:,-1],end_probs)\n",
    "end_state_val = max(end_state)\n",
    "end_state_max_idx = np.argmax(end_state)\n",
    "end_state_sym = states[end_state_max_idx]\n",
    "\n"
   ]
  },
  {
   "cell_type": "code",
   "execution_count": 6,
   "metadata": {},
   "outputs": [
    {
     "name": "stdout",
     "output_type": "stream",
     "text": [
      "max_likely_states ['H']\n"
     ]
    }
   ],
   "source": [
    "#Obtaining the maximum likely states\n",
    "max_likely_states = [end_state_sym]\n",
    "print('max_likely_states', max_likely_states)\n",
    "\n",
    "prev_max = end_state_sym\n"
   ]
  },
  {
   "cell_type": "code",
   "execution_count": null,
   "metadata": {},
   "outputs": [],
   "source": [
    "for count in range(1,len(test_sequence)):\n",
    "    current_state = max_syms[:,-count][states_dic[prev_max]].decode('utf-8')\n",
    "    max_likely_states.append(current_state)\n",
    "    prev_max = current_state\n",
    "\n"
   ]
  },
  {
   "cell_type": "code",
   "execution_count": null,
   "metadata": {},
   "outputs": [],
   "source": [
    "max_likely_states = max_likely_states[::-1]\n",
    "[print(x) for x in max_likely_states]\n",
    "\n",
    "c = 1"
   ]
  }
 ],
 "metadata": {
  "kernelspec": {
   "display_name": "Python 3",
   "language": "python",
   "name": "python3"
  },
  "language_info": {
   "codemirror_mode": {
    "name": "ipython",
    "version": 3
   },
   "file_extension": ".py",
   "mimetype": "text/x-python",
   "name": "python",
   "nbconvert_exporter": "python",
   "pygments_lexer": "ipython3",
   "version": "3.8.5"
  }
 },
 "nbformat": 4,
 "nbformat_minor": 4
}
