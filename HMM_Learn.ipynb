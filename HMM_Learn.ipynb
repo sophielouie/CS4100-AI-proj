{
 "cells": [
  {
   "cell_type": "code",
   "execution_count": 4,
   "metadata": {},
   "outputs": [],
   "source": [
    "# !pip install HMMLearn"
   ]
  },
  {
   "cell_type": "code",
   "execution_count": 392,
   "metadata": {},
   "outputs": [],
   "source": [
    "from hmmlearn.hmm import MultinomialHMM\n",
    "from matplotlib import cm, pyplot as plt\n",
    "import seaborn\n",
    "from matplotlib.dates import YearLocator, MonthLocator, DayLocator\n",
    "import pandas as pd\n",
    "import numpy \n",
    "from datetime import datetime"
   ]
  },
  {
   "cell_type": "code",
   "execution_count": 393,
   "metadata": {},
   "outputs": [],
   "source": [
    "def get_stock_data(file_name):\n",
    "    \"\"\"scrapes and cleans the data from the given file and creates a dataframe\n",
    "    \n",
    "    Args:\n",
    "        file_name (string) : name of file\n",
    "    \n",
    "    Returns:\n",
    "        df_stock (dataframe) : dataframe containing stock info scraped from file\n",
    "    \"\"\"\n",
    "    df_stock = pd.DataFrame()\n",
    "    file = open(file_name)\n",
    "    txt = file.read()\n",
    "    file.close()\n",
    "    \n",
    "    # split text into list, split by new line character\n",
    "    txt = txt.split('\\n')\n",
    "    # get column titles\n",
    "    columns = txt[0].split(',')\n",
    "\n",
    "    for line in txt[1:]:\n",
    "        temp_dict = dict()\n",
    "        line = line.strip()\n",
    "        line_list = line.split(',')\n",
    "\n",
    "        # if row does not have sufficient column information, pass over\n",
    "        if len(columns) != len(line_list):\n",
    "            continue\n",
    "\n",
    "        # add column's corresponding values to a temporary dictionary   \n",
    "        for idx in range(len(columns)):\n",
    "            column_name = columns[idx]\n",
    "            \n",
    "            # change all date column info to datetime object\n",
    "            if column_name == 'Date':\n",
    "                temp_dict[column_name] = datetime.strptime(line_list[idx], '%Y-%m-%d')\n",
    "            else:\n",
    "                temp_dict[column_name] = line_list[idx]\n",
    "\n",
    "        # append dictionary to dataframe                                                  \n",
    "        df_stock = df_stock.append(temp_dict, ignore_index=True)\n",
    "    \n",
    "    return df_stock"
   ]
  },
  {
   "cell_type": "code",
   "execution_count": 479,
   "metadata": {},
   "outputs": [],
   "source": [
    "# Set global constants\n",
    "NUM_OBSERVATIONS = 30\n",
    "NUM_COMPONENTS = 6"
   ]
  },
  {
   "cell_type": "code",
   "execution_count": 481,
   "metadata": {},
   "outputs": [
    {
     "ename": "SyntaxError",
     "evalue": "invalid syntax (<ipython-input-481-9e9f13e1c52d>, line 9)",
     "output_type": "error",
     "traceback": [
      "\u001b[0;36m  File \u001b[0;32m\"<ipython-input-481-9e9f13e1c52d>\"\u001b[0;36m, line \u001b[0;32m9\u001b[0m\n\u001b[0;31m    df_biib_stock = df_biib_stock.r eset_index()\u001b[0m\n\u001b[0m                                             ^\u001b[0m\n\u001b[0;31mSyntaxError\u001b[0m\u001b[0;31m:\u001b[0m invalid syntax\n"
     ]
    }
   ],
   "source": [
    "# Get the formatted data\n",
    "# file_name = 'a.us.txt'\n",
    "# df_a_stock = get_stock_data(file_name)\n",
    "# df_a_stock[:5]\n",
    "\n",
    "file_name = 'biib.us.txt'\n",
    "df_biib_stock = get_stock_data(file_name)\n",
    "df_biib_stock = df_biib_stock[-NUM_OBSERVATIONS:]\n",
    "df_biib_stock = df_biib_stock.r eset_index()\n",
    "df_biib_stock"
   ]
  },
  {
   "cell_type": "code",
   "execution_count": 482,
   "metadata": {},
   "outputs": [],
   "source": [
    "def get_emission(stock_dataframe):\n",
    "    \"\"\" Calculates the one day difference between stock closing value (today - yesterday)\n",
    "        and determines emission symbol based on if stock price increased or decreased from previous day\n",
    "    \n",
    "    Args:\n",
    "        stock_dataframe (dataframe) : dataframe containing stock info(close value, date, high, low, open, etc.)\n",
    "    \n",
    "    Returns:\n",
    "        one_day_dif_df(dataframe) : dataframe containing the difference from the previous day's stock value\n",
    "                                    as well as the related emission symbol (Increasing or Decreasing)\n",
    "    \"\"\"\n",
    "    \n",
    "    # Subset the initial DF to obtain only relevant columns\n",
    "    one_day_dif_df = stock_dataframe.copy()\n",
    "    one_day_dif_df = one_day_dif_df[['Date','Close']]\n",
    "    \n",
    "    # Convert CV to numeric for calculations\n",
    "    one_day_dif_df['Close'] = pd.to_numeric(one_day_dif_df['Close'])\n",
    "    one_day_dif_df['Yesterday Close'] = one_day_dif_df['Close'].shift()\n",
    "    \n",
    "    # Calculate the stock's closing price difference from the previous day\n",
    "    one_day_dif_df['Close Value Difference'] = round((one_day_dif_df['Close'] - one_day_dif_df['Yesterday Close']),2)\n",
    "    \n",
    "    one_day_dif_df['Emission'] = 'NaN'\n",
    "    row_indexes_inc = one_day_dif_df[one_day_dif_df['Close Value Difference']>=0].index\n",
    "    row_indexes_dec = one_day_dif_df[one_day_dif_df['Close Value Difference']<0].index\n",
    "    \n",
    "    # Must use 1 and 0 to signify increasing & decreasing since MultinomialHMM .fit(X) can only take positive ints\n",
    "    one_day_dif_df.loc[row_indexes_inc,'Emission']=int(1)\n",
    "    one_day_dif_df.loc[row_indexes_dec,'Emission']=int(0)\n",
    "    #one_day_dif_df['Emission'] = ['Increasing' if x > 0 else 'Decreasing' for x in one_day_dif_df['Close Value Difference']]\n",
    "    \n",
    "    return one_day_dif_df"
   ]
  },
  {
   "cell_type": "code",
   "execution_count": 483,
   "metadata": {},
   "outputs": [],
   "source": [
    "# Add emissions to the dataframe\n",
    "df_with_emissions = get_emission(df_a_stock)[-NUM_OBSERVATIONS:] # Shift over by one since first emission is NaN\n",
    "df_with_emissions = df_with_emissions.reset_index()"
   ]
  },
  {
   "cell_type": "code",
   "execution_count": 484,
   "metadata": {},
   "outputs": [],
   "source": [
    "emissions = df_with_emissions['Emission']\n",
    "\n",
    "# Reshape emissions for training\n",
    "X = emissions.values.reshape(-1, 1)\n",
    "X = X.tolist()"
   ]
  },
  {
   "cell_type": "code",
   "execution_count": 485,
   "metadata": {},
   "outputs": [],
   "source": [
    "def get_random_distribution(size):\n",
    "    rand_arr = numpy.random.rand(size, size)\n",
    "    return rand_arr/rand_arr.sum(axis=1, keepdims=True)"
   ]
  },
  {
   "cell_type": "code",
   "execution_count": 486,
   "metadata": {
    "scrolled": true
   },
   "outputs": [
    {
     "name": "stderr",
     "output_type": "stream",
     "text": [
      "Fitting a model with 41 free scalar parameters with only 30 data points will result in a degenerate solution.\n"
     ]
    },
    {
     "name": "stdout",
     "output_type": "stream",
     "text": [
      "fitting to HMM and decoding ...hidden_states [5 1 4 2 5 5 5 1 4 2 3 2 5 1 4 2 5 5 5 1 0 4 2 5 1 0 4 2 3 2]\n",
      "done\n"
     ]
    }
   ],
   "source": [
    "# Create a single HMM\n",
    "\n",
    "print(\"fitting to HMM and decoding ...\", end=\"\")\n",
    "\n",
    "# Make an HMM instance and execute fit\n",
    "model = MultinomialHMM(n_components=NUM_COMPONENTS, n_iter=100, init_params=\"e\")\n",
    "\n",
    "# randomize the initial state probabilities\n",
    "# model.startprob_ = []\n",
    "\n",
    "# randomize the initial transition probabilities\n",
    "model.transmat_ = get_random_distribution(NUM_COMPONENTS)\n",
    "\n",
    "# randomize the initial emission probabilities\n",
    "# model.emissionprob_ = get_random_distribution(NUM_COMPONENTS)\n",
    "\n",
    "# \"train\" the model\n",
    "model.fit(X)\n",
    "\n",
    "# Predict the optimal sequence of internal hidden state\n",
    "hidden_states = model.predict(X)\n",
    "print(\"hidden_states\", hidden_states)\n",
    "\n",
    "print(\"done\")"
   ]
  },
  {
   "cell_type": "code",
   "execution_count": 487,
   "metadata": {},
   "outputs": [
    {
     "name": "stderr",
     "output_type": "stream",
     "text": [
      "Fitting a model with 41 free scalar parameters with only 30 data points will result in a degenerate solution.\n",
      "Fitting a model with 41 free scalar parameters with only 30 data points will result in a degenerate solution.\n",
      "Fitting a model with 41 free scalar parameters with only 30 data points will result in a degenerate solution.\n",
      "Fitting a model with 41 free scalar parameters with only 30 data points will result in a degenerate solution.\n",
      "Fitting a model with 41 free scalar parameters with only 30 data points will result in a degenerate solution.\n",
      "Fitting a model with 41 free scalar parameters with only 30 data points will result in a degenerate solution.\n"
     ]
    },
    {
     "name": "stdout",
     "output_type": "stream",
     "text": [
      "-15.487690331124826\n",
      "-14.292321456315987\n",
      "-13.790796013256168\n",
      "-15.333313655084181\n",
      "-14.424356561595081\n"
     ]
    },
    {
     "name": "stderr",
     "output_type": "stream",
     "text": [
      "Fitting a model with 41 free scalar parameters with only 30 data points will result in a degenerate solution.\n",
      "Fitting a model with 41 free scalar parameters with only 30 data points will result in a degenerate solution.\n",
      "Fitting a model with 41 free scalar parameters with only 30 data points will result in a degenerate solution.\n",
      "Fitting a model with 41 free scalar parameters with only 30 data points will result in a degenerate solution.\n"
     ]
    },
    {
     "name": "stdout",
     "output_type": "stream",
     "text": [
      "-14.270543019832994\n",
      "-13.521977733962133\n",
      "-11.376566268040921\n",
      "-14.948208143286516\n",
      "-14.283843314529665\n"
     ]
    }
   ],
   "source": [
    "# Print the score of the first model\n",
    "#print(model.score(X))\n",
    "\n",
    "\n",
    "# Create models with different initial transition probs to see which scores the highest\n",
    "best_model = None\n",
    "for i in range(10):\n",
    "    model = MultinomialHMM(n_components=NUM_COMPONENTS, n_iter=100, init_params=\"emcs\")\n",
    "    \n",
    "    rand_arr = numpy.random.rand(NUM_COMPONENTS, NUM_COMPONENTS)\n",
    "    rand_dist = rand_arr/rand_arr.sum(axis=1, keepdims=True)\n",
    "\n",
    "    model.transmat_ = rand_dist\n",
    "    model.fit(X)\n",
    "    \n",
    "#     print(model.predict(X))\n",
    "    \n",
    "    print(model.score(X))\n",
    "    "
   ]
  },
  {
   "cell_type": "code",
   "execution_count": 488,
   "metadata": {
    "scrolled": true
   },
   "outputs": [
    {
     "data": {
      "image/png": "[encoded data removed]",
      "text/plain": [
       "<Figure size 720x720 with 6 Axes>"
      ]
     },
     "metadata": {},
     "output_type": "display_data"
    }
   ],
   "source": [
    "# print(\"Transition matrix\")\n",
    "# print(model.transmat_)\n",
    "# print()\n",
    "\n",
    "dates = df_with_emissions[\"Date\"]\n",
    "close_v = df_with_emissions[\"Close\"]\n",
    "\n",
    "\n",
    "fig, axs = plt.subplots(model.n_components, sharex=True, sharey=True)\n",
    "colours = cm.rainbow(numpy.linspace(0, 1, model.n_components))\n",
    "for i, (ax, colour) in enumerate(zip(axs, colours)):\n",
    "    # Use fancy indexing to plot data in each state.\n",
    "    mask = hidden_states == i\n",
    "    ax.plot_date(dates[mask], close_v[mask], \".-\", c=colour)\n",
    "    ax.set_title(\"{0}th hidden state\".format(i))\n",
    "\n",
    "    # Format the ticks.\n",
    "#     ax.xaxis.set_major_locator(YearLocator())\n",
    "    ax.xaxis.set_minor_locator(MonthLocator())\n",
    "\n",
    "    ax.grid(True)\n",
    "\n",
    "# set axis\n",
    "plt.xlim(dates[0], dates[len(dates)-1])\n",
    "\n",
    "# set y-axis\n",
    "# plt.ylim(0, numpy.amax(close_v) + 10)\n",
    "\n",
    "# plt.xlim(1, 10)\n",
    "fig.set_size_inches(10, 10)\n",
    "seaborn.set()\n",
    "plt.show()\n"
   ]
  },
  {
   "cell_type": "markdown",
   "metadata": {},
   "source": [
    "## What states are buy/sell states? "
   ]
  },
  {
   "cell_type": "code",
   "execution_count": 490,
   "metadata": {},
   "outputs": [
    {
     "name": "stdout",
     "output_type": "stream",
     "text": [
      "{0: -0.63, 1: 1.24, 2: -2.5100000000000002, 3: -0.72, 4: 2.54, 5: 2.8199999999999994}\n"
     ]
    }
   ],
   "source": [
    "# States with an overall a large positive diff should be considered buy states\n",
    "# and states with a negative diff should be sell states\n",
    "\n",
    "buy_sell = dict.fromkeys(range(NUM_COMPONENTS), 0);\n",
    "\n",
    "# Iterate through the list of states\n",
    "for i in range(len(hidden_states)):\n",
    "    # add the buy value of the difference \n",
    "    diff = df_with_emissions.loc[i,:]['Close Value Difference']\n",
    "    state = hidden_states[i]\n",
    "    buy_sell[state] += diff    \n",
    "    \n",
    "\n",
    "print(buy_sell)\n",
    "\n",
    "# Q: Should this be normalized by the number of times that the stock has been seen? \n"
   ]
  },
  {
   "cell_type": "code",
   "execution_count": null,
   "metadata": {},
   "outputs": [],
   "source": []
  }
 ],
 "metadata": {
  "kernelspec": {
   "display_name": "Python 3",
   "language": "python",
   "name": "python3"
  },
  "language_info": {
   "codemirror_mode": {
    "name": "ipython",
    "version": 3
   },
   "file_extension": ".py",
   "mimetype": "text/x-python",
   "name": "python",
   "nbconvert_exporter": "python",
   "pygments_lexer": "ipython3",
   "version": "3.6.8"
  }
 },
 "nbformat": 4,
 "nbformat_minor": 2
}
