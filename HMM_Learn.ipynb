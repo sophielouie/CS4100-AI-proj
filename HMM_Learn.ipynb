{
 "cells": [
  {
   "cell_type": "code",
   "execution_count": 4,
   "metadata": {},
   "outputs": [],
   "source": [
    "# !pip install HMMLearn"
   ]
  },
  {
   "cell_type": "code",
   "execution_count": 274,
   "metadata": {},
   "outputs": [],
   "source": [
    "from hmmlearn.hmm import MultinomialHMM\n",
    "from matplotlib import cm, pyplot as plt\n",
    "import seaborn\n",
    "from matplotlib.dates import YearLocator, MonthLocator, DayLocator\n",
    "import pandas as pd\n",
    "import numpy \n",
    "from datetime import datetime"
   ]
  },
  {
   "cell_type": "code",
   "execution_count": 16,
   "metadata": {},
   "outputs": [],
   "source": [
    "def get_stock_data(file_name):\n",
    "    \"\"\"scrapes and cleans the data from the given file and creates a dataframe\n",
    "    \n",
    "    Args:\n",
    "        file_name (string) : name of file\n",
    "    \n",
    "    Returns:\n",
    "        df_stock (dataframe) : dataframe containing stock info scraped from file\n",
    "    \"\"\"\n",
    "    df_stock = pd.DataFrame()\n",
    "    file = open(file_name)\n",
    "    txt = file.read()\n",
    "    file.close()\n",
    "    \n",
    "    # split text into list, split by new line character\n",
    "    txt = txt.split('\\n')\n",
    "    # get column titles\n",
    "    columns = txt[0].split(',')\n",
    "\n",
    "    for line in txt[1:]:\n",
    "        temp_dict = dict()\n",
    "        line = line.strip()\n",
    "        line_list = line.split(',')\n",
    "\n",
    "        # if row does not have sufficient column information, pass over\n",
    "        if len(columns) != len(line_list):\n",
    "            continue\n",
    "\n",
    "        # add column's corresponding values to a temporary dictionary   \n",
    "        for idx in range(len(columns)):\n",
    "            column_name = columns[idx]\n",
    "            \n",
    "            # change all date column info to datetime object\n",
    "            if column_name == 'Date':\n",
    "                temp_dict[column_name] = datetime.strptime(line_list[idx], '%Y-%m-%d')\n",
    "            else:\n",
    "                temp_dict[column_name] = line_list[idx]\n",
    "\n",
    "        # append dictionary to dataframe                                                  \n",
    "        df_stock = df_stock.append(temp_dict, ignore_index=True)\n",
    "    \n",
    "    return df_stock"
   ]
  },
  {
   "cell_type": "code",
   "execution_count": 312,
   "metadata": {},
   "outputs": [
    {
     "data": {
      "text/html": [
       "<div>\n",
       "<style scoped>\n",
       "    .dataframe tbody tr th:only-of-type {\n",
       "        vertical-align: middle;\n",
       "    }\n",
       "\n",
       "    .dataframe tbody tr th {\n",
       "        vertical-align: top;\n",
       "    }\n",
       "\n",
       "    .dataframe thead th {\n",
       "        text-align: right;\n",
       "    }\n",
       "</style>\n",
       "<table border=\"1\" class=\"dataframe\">\n",
       "  <thead>\n",
       "    <tr style=\"text-align: right;\">\n",
       "      <th></th>\n",
       "      <th>Close</th>\n",
       "      <th>Date</th>\n",
       "      <th>High</th>\n",
       "      <th>Low</th>\n",
       "      <th>Open</th>\n",
       "      <th>OpenInt</th>\n",
       "      <th>Volume</th>\n",
       "    </tr>\n",
       "  </thead>\n",
       "  <tbody>\n",
       "    <tr>\n",
       "      <th>0</th>\n",
       "      <td>29.702</td>\n",
       "      <td>1999-11-18</td>\n",
       "      <td>33.754</td>\n",
       "      <td>27.002</td>\n",
       "      <td>30.713</td>\n",
       "      <td>0</td>\n",
       "      <td>66277506</td>\n",
       "    </tr>\n",
       "    <tr>\n",
       "      <th>1</th>\n",
       "      <td>27.257</td>\n",
       "      <td>1999-11-19</td>\n",
       "      <td>29.027</td>\n",
       "      <td>26.872</td>\n",
       "      <td>28.986</td>\n",
       "      <td>0</td>\n",
       "      <td>16142920</td>\n",
       "    </tr>\n",
       "    <tr>\n",
       "      <th>2</th>\n",
       "      <td>29.702</td>\n",
       "      <td>1999-11-22</td>\n",
       "      <td>29.702</td>\n",
       "      <td>27.044</td>\n",
       "      <td>27.886</td>\n",
       "      <td>0</td>\n",
       "      <td>6970266</td>\n",
       "    </tr>\n",
       "    <tr>\n",
       "      <th>3</th>\n",
       "      <td>27.002</td>\n",
       "      <td>1999-11-23</td>\n",
       "      <td>29.446</td>\n",
       "      <td>27.002</td>\n",
       "      <td>28.688</td>\n",
       "      <td>0</td>\n",
       "      <td>6332082</td>\n",
       "    </tr>\n",
       "    <tr>\n",
       "      <th>4</th>\n",
       "      <td>27.717</td>\n",
       "      <td>1999-11-24</td>\n",
       "      <td>28.309</td>\n",
       "      <td>27.002</td>\n",
       "      <td>27.083</td>\n",
       "      <td>0</td>\n",
       "      <td>5132147</td>\n",
       "    </tr>\n",
       "  </tbody>\n",
       "</table>\n",
       "</div>"
      ],
      "text/plain": [
       "    Close       Date    High     Low    Open OpenInt    Volume\n",
       "0  29.702 1999-11-18  33.754  27.002  30.713       0  66277506\n",
       "1  27.257 1999-11-19  29.027  26.872  28.986       0  16142920\n",
       "2  29.702 1999-11-22  29.702  27.044  27.886       0   6970266\n",
       "3  27.002 1999-11-23  29.446  27.002  28.688       0   6332082\n",
       "4  27.717 1999-11-24  28.309  27.002  27.083       0   5132147"
      ]
     },
     "execution_count": 312,
     "metadata": {},
     "output_type": "execute_result"
    }
   ],
   "source": [
    "# Get the formatted data\n",
    "file_name = 'a.us.txt'\n",
    "df_a_stock = get_stock_data(file_name)\n",
    "df_a_stock[:5]"
   ]
  },
  {
   "cell_type": "code",
   "execution_count": 141,
   "metadata": {},
   "outputs": [],
   "source": [
    "def get_emission(stock_dataframe):\n",
    "    \"\"\" Calculates the one day difference between stock closing value (today - yesterday)\n",
    "        and determines emission symbol based on if stock price increased or decreased from previous day\n",
    "    \n",
    "    Args:\n",
    "        stock_dataframe (dataframe) : dataframe containing stock info(close value, date, high, low, open, etc.)\n",
    "    \n",
    "    Returns:\n",
    "        one_day_dif_df(dataframe) : dataframe containing the difference from the previous day's stock value\n",
    "                                    as well as the related emission symbol (Increasing or Decreasing)\n",
    "    \"\"\"\n",
    "    \n",
    "    # Subset the initial DF to obtain only relevant columns\n",
    "    one_day_dif_df = stock_dataframe.copy()\n",
    "    one_day_dif_df = one_day_dif_df[['Date','Close']]\n",
    "    \n",
    "    # Convert CV to numeric for calculations\n",
    "    one_day_dif_df['Close'] = pd.to_numeric(one_day_dif_df['Close'])\n",
    "    one_day_dif_df['Yesterday Close'] = one_day_dif_df['Close'].shift()\n",
    "    \n",
    "    # Calculate the stock's closing price difference from the previous day\n",
    "    one_day_dif_df['Close Value Difference'] = round((one_day_dif_df['Close'] - one_day_dif_df['Yesterday Close']),2)\n",
    "    \n",
    "    one_day_dif_df['Emission'] = 'NaN'\n",
    "    row_indexes_inc = one_day_dif_df[one_day_dif_df['Close Value Difference']>=0].index\n",
    "    row_indexes_dec = one_day_dif_df[one_day_dif_df['Close Value Difference']<0].index\n",
    "    \n",
    "    # Must use 1 and 0 to signify increasing & decreasing since MultinomialHMM .fit(X) can only take positive ints\n",
    "    one_day_dif_df.loc[row_indexes_inc,'Emission']=int(1)\n",
    "    one_day_dif_df.loc[row_indexes_dec,'Emission']=int(0)\n",
    "    #one_day_dif_df['Emission'] = ['Increasing' if x > 0 else 'Decreasing' for x in one_day_dif_df['Close Value Difference']]\n",
    "    \n",
    "    return one_day_dif_df"
   ]
  },
  {
   "cell_type": "code",
   "execution_count": 354,
   "metadata": {},
   "outputs": [],
   "source": [
    "# Set global constants\n",
    "NUM_OBSERVATIONS = 250\n",
    "NUM_COMPONENTS = 5"
   ]
  },
  {
   "cell_type": "code",
   "execution_count": 355,
   "metadata": {},
   "outputs": [],
   "source": [
    "# Add emissions to the dataframe\n",
    "df_with_emissions = get_emission(df_a_stock)[1:NUM_OBSERVATIONS+1] # Shift over by one since first emission is NaN"
   ]
  },
  {
   "cell_type": "code",
   "execution_count": 356,
   "metadata": {},
   "outputs": [],
   "source": [
    "emissions = df_with_emissions['Emission']\n",
    "\n",
    "# Reshape emissions for training\n",
    "X = emissions.values.reshape(-1, 1)\n",
    "X = X.tolist()"
   ]
  },
  {
   "cell_type": "code",
   "execution_count": 357,
   "metadata": {},
   "outputs": [],
   "source": [
    "def get_random_distribution(size):\n",
    "    rand_arr = numpy.random.rand(size, size)\n",
    "    return rand_arr/rand_arr.sum(axis=1, keepdims=True)"
   ]
  },
  {
   "cell_type": "code",
   "execution_count": 373,
   "metadata": {
    "scrolled": true
   },
   "outputs": [
    {
     "name": "stdout",
     "output_type": "stream",
     "text": [
      "fitting to HMM and decoding ...done\n"
     ]
    }
   ],
   "source": [
    "# Create a single HMM\n",
    "\n",
    "print(\"fitting to HMM and decoding ...\", end=\"\")\n",
    "\n",
    "# Make an HMM instance and execute fit\n",
    "model = MultinomialHMM(n_components=NUM_COMPONENTS, n_iter=100, init_params=\"e\")\n",
    "\n",
    "# randomize the initial state probabilities\n",
    "# model.startprob_ = []\n",
    "\n",
    "# randomize the initial transition probabilities\n",
    "model.transmat_ = get_random_distribution(NUM_COMPONENTS)\n",
    "\n",
    "# randomize the initial emission probabilities\n",
    "# model.emissionprob_ = get_random_distribution(NUM_COMPONENTS)\n",
    "\n",
    "# \"train\" the model\n",
    "model.fit(X)\n",
    "\n",
    "# Predict the optimal sequence of internal hidden state\n",
    "hidden_states = model.predict(X)\n",
    "\n",
    "print(\"done\")"
   ]
  },
  {
   "cell_type": "code",
   "execution_count": 348,
   "metadata": {},
   "outputs": [
    {
     "name": "stdout",
     "output_type": "stream",
     "text": [
      "-169.74381800800896\n",
      "-167.15456862990413\n",
      "-169.32861951642394\n",
      "-169.7249479921678\n",
      "-169.15569492757052\n",
      "-168.88807911521863\n",
      "-168.91830482089767\n",
      "-168.81316905339705\n",
      "-168.86092560681288\n",
      "-168.65288250671807\n"
     ]
    }
   ],
   "source": [
    "# Print the score of the first model\n",
    "#print(model.score(X))\n",
    "\n",
    "\n",
    "# Create models with different initial transition probs to see which scores the highest\n",
    "best_model = None\n",
    "for i in range(10):\n",
    "    model = MultinomialHMM(n_components=NUM_COMPONENTS, n_iter=100, init_params=\"emcs\")\n",
    "    \n",
    "    rand_arr = numpy.random.rand(NUM_COMPONENTS, NUM_COMPONENTS)\n",
    "    rand_dist = rand_arr/rand_arr.sum(axis=1, keepdims=True)\n",
    "\n",
    "    model.transmat_ = rand_dist\n",
    "    model.fit(X)\n",
    "    \n",
    "    print(model.predict(X))\n",
    "    \n",
    "    print(model.score(X))\n",
    "    "
   ]
  },
  {
   "cell_type": "code",
   "execution_count": 349,
   "metadata": {
    "scrolled": true
   },
   "outputs": [
    {
     "data": {
      "image/png": "[encoded data removed]",
      "text/plain": [
       "<Figure size 720x720 with 6 Axes>"
      ]
     },
     "metadata": {},
     "output_type": "display_data"
    }
   ],
   "source": [
    "# print(\"Transition matrix\")\n",
    "# print(model.transmat_)\n",
    "# print()\n",
    "\n",
    "dates = df_with_emissions[\"Date\"]\n",
    "close_v = df_with_emissions[\"Close\"]\n",
    "\n",
    "\n",
    "fig, axs = plt.subplots(model.n_components, sharex=True, sharey=True)\n",
    "colours = cm.rainbow(numpy.linspace(0, 1, model.n_components))\n",
    "for i, (ax, colour) in enumerate(zip(axs, colours)):\n",
    "    # Use fancy indexing to plot data in each state.\n",
    "    mask = hidden_states == i\n",
    "    ax.plot_date(dates[mask], close_v[mask], \".-\", c=colour)\n",
    "    ax.set_title(\"{0}th hidden state\".format(i))\n",
    "\n",
    "    # Format the ticks.\n",
    "#     ax.xaxis.set_major_locator(YearLocator())\n",
    "    ax.xaxis.set_minor_locator(MonthLocator())\n",
    "\n",
    "    ax.grid(True)\n",
    "\n",
    "# set axis\n",
    "plt.xlim(dates[1], dates[len(dates)])\n",
    "\n",
    "# set y-axis\n",
    "plt.ylim(0, numpy.amax(close_v) + 10)\n",
    "\n",
    "# plt.xlim(1, 10)\n",
    "fig.set_size_inches(10, 10)\n",
    "seaborn.set()\n",
    "plt.show()\n"
   ]
  },
  {
   "cell_type": "code",
   "execution_count": null,
   "metadata": {},
   "outputs": [],
   "source": []
  }
 ],
 "metadata": {
  "kernelspec": {
   "display_name": "Python 3",
   "language": "python",
   "name": "python3"
  },
  "language_info": {
   "codemirror_mode": {
    "name": "ipython",
    "version": 3
   },
   "file_extension": ".py",
   "mimetype": "text/x-python",
   "name": "python",
   "nbconvert_exporter": "python",
   "pygments_lexer": "ipython3",
   "version": "3.6.8"
  }
 },
 "nbformat": 4,
 "nbformat_minor": 2
}
